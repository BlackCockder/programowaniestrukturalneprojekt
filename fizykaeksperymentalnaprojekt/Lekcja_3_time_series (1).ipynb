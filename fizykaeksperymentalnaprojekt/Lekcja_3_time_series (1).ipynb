{
 "nbformat": 4,
 "nbformat_minor": 0,
 "metadata": {
  "colab": {
   "provenance": [],
   "toc_visible": true
  },
  "kernelspec": {
   "name": "python3",
   "display_name": "Python 3"
  },
  "language_info": {
   "name": "python"
  }
 },
 "cells": [
  {
   "cell_type": "markdown",
   "source": [
    "# Szeregi czasowe, przewidywanie na podstawie danych historycznych"
   ],
   "metadata": {
    "id": "Ln-Bzd1yH9il"
   }
  },
  {
   "cell_type": "markdown",
   "source": [
    "![1.webp](data:image/webp;base64,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)"
   ],
   "metadata": {
    "id": "FeWmwg9YH8gu"
   }
  },
  {
   "cell_type": "markdown",
   "source": [
    "# Wczytanie potrzebnych pakietów i danych"
   ],
   "metadata": {
    "id": "Lpr-1RI7o2oz"
   }
  },
  {
   "cell_type": "markdown",
   "source": [
    "Pracę z danymi zaczynami od wczytania potrzebnych pakietów Python. W tym przypadku jest to Pandas, NumPy, Matplotlib  do analizy  i wizualizacji danych.\n",
    "\n",
    "Pakiet XGBoost jest pakietem do uczenia maszynowego.\n",
    "\n",
    "Sklearn.metrics posłuży nam do walidacji modelu metodą średniego błędu kwadratowego\n",
    "\n",
    "$\\displaystyle MSE = \\frac{1}{n} \\sum_{i=1}^n (y_{pred}-y_{test})^2$, gdzie $n$ - liczba wyników, $y_{pred}$ -wartość przewidziana, $y_{test}$ - wartość testowa danych"
   ],
   "metadata": {
    "id": "C7Iwa4NGCWsh"
   }
  },
  {
   "cell_type": "code",
   "execution_count": 1,
   "metadata": {
    "id": "0EDI6NnPDYBo"
   },
   "source": [
    "import pandas as pd\n",
    "import numpy as np\n",
    "import matplotlib.pyplot as plt\n",
    "import seaborn as sns\n",
    "\n",
    "import xgboost as xgb\n",
    "from sklearn.metrics import mean_squared_error"
   ],
   "outputs": []
  },
  {
   "cell_type": "markdown",
   "source": [
    "Do wczytania danych z pliku `.csv` używamy komendy z pakietu Pandas (pd),  `read_csv` i zapisujemy dane w ramce danych (DataFrame) pod nazwą df."
   ],
   "metadata": {
    "id": "XaMbcl-WDj9s"
   }
  },
  {
   "cell_type": "code",
   "source": [
    "df = pd.read_csv('/content/drive/MyDrive/AEP_hourly.csv')"
   ],
   "metadata": {
    "id": "eR-qxPz2DZKZ"
   },
   "execution_count": 2,
   "outputs": []
  },
  {
   "cell_type": "markdown",
   "source": [
    "Wpisanie komendy `df` pokazuje nam zawartość."
   ],
   "metadata": {
    "id": "JeW5qlF1EXrU"
   }
  },
  {
   "cell_type": "code",
   "source": [
    "df"
   ],
   "metadata": {
    "colab": {
     "base_uri": "https://localhost:8080/",
     "height": 424
    },
    "id": "MVD8Ef1WEb5o",
    "outputId": "85557a19-d313-4cbc-bdeb-cde471b4bd25"
   },
   "execution_count": 3,
   "outputs": []
  },
  {
   "cell_type": "markdown",
   "source": [
    "Mamy trzy kolumny. Pierwsza jest w domyśle indeksem numerowanym od `0`. Druga kolumna o nazwie `Datatime` ma format czasowy, trzecia kolumna `AEP_MW` zawiera dane średniej produkcji energii w danej godzienie w jednostakch megawat (MW).\n",
    "\n",
    "Format danych w ramce `df` możemy sprawdzić wpisując nazwę, czyli `df` z rozszerzeniem `.dtypes`, czyli `df.dtypes`"
   ],
   "metadata": {
    "id": "2sh0-dqjEgWE"
   }
  },
  {
   "cell_type": "code",
   "source": [
    "df.dtypes"
   ],
   "metadata": {
    "colab": {
     "base_uri": "https://localhost:8080/",
     "height": 147
    },
    "id": "tbOPzfoOBo1g",
    "outputId": "475bfc15-26eb-4274-8f82-f2d4138faeba"
   },
   "execution_count": 4,
   "outputs": []
  },
  {
   "cell_type": "markdown",
   "source": [
    "Widzimy, że `AEP_MW` jest rozumiana jak liczba zmiennoprzecinkowa, natomiast `Datetime` jest traktowana jako obiekt, z którym nie zrobimy analizy danych. Trzeba zamienić na format daty i czasu, czyli `datetime`.\n",
    "\n",
    "Możemy to zrobić komendą `pd.to_datetime()`, gdzie w nawias wpiszemy co chcemy zamienić na format daty, czyli kolumnę `Datetime` w ramce `df`, czyli możemy zapisać `df.Datatime`. Cała komenda to `pd.to_datetime(df.Datetime)`\n",
    "\n"
   ],
   "metadata": {
    "id": "U1mQEdliEO3q"
   }
  },
  {
   "cell_type": "code",
   "source": [
    "pd.to_datetime(df.Datetime)"
   ],
   "metadata": {
    "colab": {
     "base_uri": "https://localhost:8080/",
     "height": 459
    },
    "id": "ZaWhvUvhGPvi",
    "outputId": "e36af1a1-d330-41a1-b7c6-7438a17e6bbc"
   },
   "execution_count": 5,
   "outputs": []
  },
  {
   "cell_type": "markdown",
   "source": [
    "Zmiana w `df` nie zaszła, można to sprawdzić `df.dtypes`"
   ],
   "metadata": {
    "id": "dMLn38b0G4li"
   }
  },
  {
   "cell_type": "code",
   "source": [
    "df.dtypes"
   ],
   "metadata": {
    "colab": {
     "base_uri": "https://localhost:8080/",
     "height": 147
    },
    "id": "qTrWWsClGtwf",
    "outputId": "13ddd2dc-cf9b-4f8e-a10c-ff30cf062397"
   },
   "execution_count": 6,
   "outputs": []
  },
  {
   "cell_type": "markdown",
   "source": [
    "Aby zapisać zmiany należy wskazać, gdzie sformatowana data komendą `pd.to_datetime(df.Datetime)` ma być zapisana, czyli w kolumnie `Datetime` ramki danych `df`. Piszemy df.Datetime = pd.to_datetime(df.Datetime) i sprawdzamy `df.dtypes`"
   ],
   "metadata": {
    "id": "msPeg3NOGpVU"
   }
  },
  {
   "cell_type": "code",
   "source": [
    "df.Datetime = pd.to_datetime(df.Datetime)"
   ],
   "metadata": {
    "id": "oUiagy-pGD_Q"
   },
   "execution_count": 7,
   "outputs": []
  },
  {
   "cell_type": "code",
   "source": [
    "df.dtypes"
   ],
   "metadata": {
    "colab": {
     "base_uri": "https://localhost:8080/",
     "height": 147
    },
    "id": "csUFe8NGGHTB",
    "outputId": "1e7bba04-85f4-4d38-b6e5-fe50fa2e0260"
   },
   "execution_count": 8,
   "outputs": []
  },
  {
   "cell_type": "markdown",
   "source": [
    "# Wizualizacja wstępna"
   ],
   "metadata": {
    "id": "ZnpPVHJjpDZS"
   }
  },
  {
   "cell_type": "markdown",
   "source": [
    "Zróbmy wykres naszych danych. Posłużymy się pakietem `matplotlib.plt`."
   ],
   "metadata": {
    "id": "W0OeYUoGHvgi"
   }
  },
  {
   "cell_type": "markdown",
   "source": [
    "Wykres generuje się szeregiem komend. W tym przypadku zdefiniowaliśmy rozmiar rysunku (w calach) na 15x6.\n",
    "\n",
    "Komenda `plt.plot` generuje wykres danych `x` i `y`, które w naszym przypadku są odwołaniem do kolumny `Datatime` jako `x` i `AEP_MW` jako `y`. Marker `'o'` oznacza wykres punktowy (liniowy to `'-'`), z wielkością markera `1`.\n",
    "\n",
    "`plt.savefig` służy to zapisywania wykresu. Obsługiwanych rozszrzeń jest bardzo dużo. Plik do pobrania z panelu `Pliki`."
   ],
   "metadata": {
    "id": "6R8B7R3EI-E1"
   }
  },
  {
   "cell_type": "code",
   "source": [
    "plt.figure(figsize=(15,6))\n",
    "plt.plot(df.Datetime, df.AEP_MW, 'o', markersize=1)\n",
    "plt.title('Zużycie energii w latach 2004-2018')\n",
    "plt.xlabel('Rok')\n",
    "plt.ylabel('Energia [MW]')\n",
    "plt.savefig('A.png')\n",
    "plt.show()"
   ],
   "metadata": {
    "colab": {
     "base_uri": "https://localhost:8080/",
     "height": 564
    },
    "id": "8_OBdZunH5oK",
    "outputId": "20d30920-2f58-4204-f5ad-31b4c18a5fc0"
   },
   "execution_count": 9,
   "outputs": []
  },
  {
   "cell_type": "markdown",
   "source": [
    "Dane możemy również zawęźić aby zoabczyć jaka jest zmienność np. w roku 2010. W tym celu filtrujemy dane z roku 2010 (od 01-01-2010 do 31-12-2010) poleceniem `.loc` i operacjami logicznymi `>` i `<=`."
   ],
   "metadata": {
    "id": "5mQv0HceL3gC"
   }
  },
  {
   "cell_type": "code",
   "source": [
    "df_2010=df.loc[(df.Datetime > '01-01-2010') & (df.Datetime <= '31-12-2010')]"
   ],
   "metadata": {
    "id": "9qvunpunQa2F"
   },
   "execution_count": 10,
   "outputs": []
  },
  {
   "cell_type": "markdown",
   "source": [
    "W ramce `df_2010` mamy zapisane tylko wyniki z roku 2010. Zauważ, że index (pierwsza kolumna) nie zeruje się, ale przyjmuje wartości z ramki źródłowej."
   ],
   "metadata": {
    "id": "tkIUNFc1Qf2T"
   }
  },
  {
   "cell_type": "code",
   "source": [
    "df_2010"
   ],
   "metadata": {
    "colab": {
     "base_uri": "https://localhost:8080/",
     "height": 424
    },
    "id": "XrJKH4pMQdLk",
    "outputId": "4966c35a-b73f-468f-f46f-c66347056e5e"
   },
   "execution_count": 11,
   "outputs": []
  },
  {
   "cell_type": "markdown",
   "source": [
    "Resetowanie indeksu można zrobić komendą `.reset_index`, `drop=True` wyrzuca stare indeksy, `inplace=True` zamienia indeksy w ramce wywoływanej, czyli `df_2010` od razu będzie miała zapisane zmiany."
   ],
   "metadata": {
    "id": "ShkBwXE7Q_sE"
   }
  },
  {
   "cell_type": "code",
   "source": [
    "df_2010.reset_index(drop=True, inplace=True)"
   ],
   "metadata": {
    "id": "bSXrQDw2Rhtq"
   },
   "execution_count": 12,
   "outputs": []
  },
  {
   "cell_type": "code",
   "source": [
    "df_2010"
   ],
   "metadata": {
    "colab": {
     "base_uri": "https://localhost:8080/",
     "height": 424
    },
    "id": "McHHrdvaRi0u",
    "outputId": "150f50f5-041d-4775-e9b2-3f14120625d3"
   },
   "execution_count": 13,
   "outputs": []
  },
  {
   "cell_type": "markdown",
   "source": [
    "Wykonanie wykresu z danych `df_2010` jest analogiczne jak wyżej, zmienimy tytuł i orientację etykiet na osi `x` dla większej czytelności."
   ],
   "metadata": {
    "id": "Ug-ccG1OSYeL"
   }
  },
  {
   "cell_type": "code",
   "source": [
    "plt.figure(figsize=(15,6))\n",
    "plt.plot(df_2010.Datetime, df_2010.AEP_MW, 'o', markersize=1)\n",
    "plt.title('Zużycie energii w 2010 roku')\n",
    "plt.xlabel('Dzień')\n",
    "plt.ylabel('Energia [MW]')\n",
    "plt.xticks(rotation=45)\n",
    "plt.show()"
   ],
   "metadata": {
    "colab": {
     "base_uri": "https://localhost:8080/",
     "height": 601
    },
    "id": "h0YGpfkgFsOz",
    "outputId": "df2e13cf-ab90-4a53-c8f4-e083acd7b25d"
   },
   "execution_count": 14,
   "outputs": []
  },
  {
   "cell_type": "markdown",
   "source": [
    "# Przygotowanie danych do uczenia maszynowego, podział na dane treningowe i testowe"
   ],
   "metadata": {
    "id": "s0aTi3lwKW2f"
   }
  },
  {
   "cell_type": "markdown",
   "source": [
    "Dane zawarte w df mają mało atrybutów do uczenia maszynowego. Intuicyjnie wiemy, że zużycie energii może zależeć od następujących parametrów, takich jak godzina, dzień tygodnia, kwartał roku, miesiąc, rok, dzień roku czy dzień miesiąca. Do naszych danych w `df` dołożymy kolumny z poszczególnymi parametrami. Python umożliwia kilka możliwości ekstrakcji parametrów z dat. Tworzenie nowej kolumny w DataFrame jest bardzo proste, wystraczy podać nazwę ramki w której chcemy dołożyć kolumne oraz nazwę kolumny, np. do ramki `df` wstawiamy kolumnę o nazwie `hour` komendą `df['hour']`. Do jej zawartości przekierowujemy godzinę wyciągnięta z daty za pomocą komendy `.dt.hour`, czyli piszemy `df['Datetime'].dt.hour`, co wyciągnie nam z pełnej daty, tylko wartość godziny, czyli np. z daty `2004-12-31 01:00:00` otrzymamy `1`."
   ],
   "metadata": {
    "id": "he5FVFOfSxAy"
   }
  },
  {
   "cell_type": "code",
   "source": [
    "df['hour'] = df['Datetime'].dt.hour"
   ],
   "metadata": {
    "id": "-dGoQVHaF1Wc"
   },
   "execution_count": 15,
   "outputs": []
  },
  {
   "cell_type": "markdown",
   "source": [
    "Kolejne paramtery wyciągamy odpowiednimy komendami jak poniżej:"
   ],
   "metadata": {
    "id": "9uJ9Cc_EVhQ_"
   }
  },
  {
   "cell_type": "code",
   "source": [
    "df['dayofweek'] = df['Datetime'].dt.dayofweek\n",
    "df['quarter'] = df['Datetime'].dt.quarter\n",
    "df['month'] = df['Datetime'].dt.month\n",
    "df['year'] = df['Datetime'].dt.year\n",
    "df['dayofyear'] = df['Datetime'].dt.dayofyear\n",
    "df['dayofmonth'] = df['Datetime'].dt.day"
   ],
   "metadata": {
    "id": "NSVvUw6fF7dg"
   },
   "execution_count": 16,
   "outputs": []
  },
  {
   "cell_type": "markdown",
   "source": [
    "Na koniec dostajemy rozszerzoną ramkę danych z odpowiednimi kolumnami."
   ],
   "metadata": {
    "id": "U4YkGU-nVr6f"
   }
  },
  {
   "cell_type": "code",
   "source": [
    "df"
   ],
   "metadata": {
    "colab": {
     "base_uri": "https://localhost:8080/",
     "height": 424
    },
    "id": "mLLMbNjoVz3q",
    "outputId": "0a1b0306-8990-47c8-a7bd-3528579483cd"
   },
   "execution_count": 17,
   "outputs": []
  },
  {
   "cell_type": "markdown",
   "source": [
    "Teraz możemy zrobić wykres jak kształtowało się zużycie energii w ciągu całego okresu pomiarowego w poszczególnych godzinach. W tym celu użyjemy pakietu `seaborn`. Wykres możemy robić wg różnych parametrów, jak `month`, `year`, itp."
   ],
   "metadata": {
    "id": "Zz2y_pFtV2eE"
   }
  },
  {
   "cell_type": "code",
   "source": [
    "sns.boxplot(x=df['hour'], y=df['AEP_MW'], palette='magma')\n",
    "plt.title('Zużycie energii w ciągu dnia')\n",
    "plt.xlabel('Godzina')\n",
    "plt.ylabel('Energia [MW]')\n",
    "plt.show()"
   ],
   "metadata": {
    "colab": {
     "base_uri": "https://localhost:8080/",
     "height": 561
    },
    "id": "m375F8CCWPOM",
    "outputId": "ff9319bc-5114-4bff-f99f-586e8824d99f"
   },
   "execution_count": 18,
   "outputs": []
  },
  {
   "cell_type": "markdown",
   "source": [
    "Przygotowanie danych do modelu rozpoczniemy od przygotowania danych zależnych (energia) i niezależnych (wszystko inne, czyli parametry czasowe. Nazwiemy jest odpowiednio `y` i `X`. Kolumny odrzucamy komendą `.drop`.\n",
    "\n"
   ],
   "metadata": {
    "id": "nhmIJik1Xvzo"
   }
  },
  {
   "cell_type": "markdown",
   "source": [
    "Dane treningowe i testowe dzielimy do/od dnia 01-01-2016, czyli to co przed rokiem 2016 jest w danych treiningowych i będzie używane do trenowania modelu uczenia maszynowego. To co powyżej tej daty będzie użyte do walidacji modelu."
   ],
   "metadata": {
    "id": "GQ49Rb1WZ2sv"
   }
  },
  {
   "cell_type": "code",
   "source": [
    "df_train=df.loc[df['Datetime']< '01-01-2016']\n",
    "df_test=df.loc[df['Datetime']>= '01-01-2016']"
   ],
   "metadata": {
    "id": "yJFZq4pSZ85k"
   },
   "execution_count": 19,
   "outputs": []
  },
  {
   "cell_type": "markdown",
   "source": [
    "Następnie trzeba oddzielić zmienne niezależne (data, godzina, itp.) od zmiennych zależnych (energia). Odrzucamy też kolumne `'Datetime'`, która nie jest na już potrzebna."
   ],
   "metadata": {
    "id": "737Lsgy0cIlC"
   }
  },
  {
   "cell_type": "code",
   "source": [
    "X_train = df_train.drop(columns=['AEP_MW', 'Datetime'])\n",
    "y_train = df_train['AEP_MW']"
   ],
   "metadata": {
    "id": "V30wQdrkXspD"
   },
   "execution_count": 20,
   "outputs": []
  },
  {
   "cell_type": "markdown",
   "source": [
    "To samo trzeba zrobić dla danych testowych."
   ],
   "metadata": {
    "id": "pBCVKKeIcb86"
   }
  },
  {
   "cell_type": "code",
   "source": [
    "X_test = df_test.drop(columns=['AEP_MW', 'Datetime'])\n",
    "y_test = df_test['AEP_MW']"
   ],
   "metadata": {
    "id": "rxZwJbBnacfX"
   },
   "execution_count": 21,
   "outputs": []
  },
  {
   "cell_type": "markdown",
   "source": [
    "Dane testowe `X_test`:"
   ],
   "metadata": {
    "id": "l9099alJYogS"
   }
  },
  {
   "cell_type": "code",
   "source": [
    "X_test"
   ],
   "metadata": {
    "colab": {
     "base_uri": "https://localhost:8080/",
     "height": 424
    },
    "id": "tioyCWH_YQw4",
    "outputId": "c66da9e9-bd03-4743-d2f4-c14f72c401f0"
   },
   "execution_count": 22,
   "outputs": []
  },
  {
   "cell_type": "markdown",
   "source": [
    "Dane testowe `y_test`:"
   ],
   "metadata": {
    "id": "eLg23vx0cy0h"
   }
  },
  {
   "cell_type": "code",
   "source": [
    "y_test"
   ],
   "metadata": {
    "colab": {
     "base_uri": "https://localhost:8080/",
     "height": 459
    },
    "id": "qPqKrk-yc1HT",
    "outputId": "b5aad344-f85c-46c2-80a5-1fbedfb11995"
   },
   "execution_count": 23,
   "outputs": []
  },
  {
   "cell_type": "markdown",
   "source": [
    "# Uczenie maszynowe - model XGBoost"
   ],
   "metadata": {
    "id": "0k_qFmlUpMTp"
   }
  },
  {
   "cell_type": "markdown",
   "source": [
    "Model uczenia maszynowego budujemy w oparciu o `xgb`, koszystamy z modelu regresji `XGBRegresor` podając ile kroków uczenia maszynowego ma wykonać. Zwiększając ilość kroków zwiększamy dokładność modelu, ale wydłużamy czas obliczeń. Można przetestować dla różnych wartości `n`. Nie zawsze więcej znaczy lepiej, ponieważ model może być zbyt mocno dopasowany do danych treningowych i będzie źle przewidywał w oparciu o dane testowe, zwiększając błąd."
   ],
   "metadata": {
    "id": "jMSLy_j_c2ut"
   }
  },
  {
   "cell_type": "code",
   "source": [
    "reg = xgb.XGBRegressor(n_estimators=200)"
   ],
   "metadata": {
    "id": "GAQI_HuWeIiv"
   },
   "execution_count": 63,
   "outputs": []
  },
  {
   "cell_type": "markdown",
   "source": [
    "Uruchamiamy uczenie modelu komendą fit"
   ],
   "metadata": {
    "id": "R31c8BczdN0W"
   }
  },
  {
   "cell_type": "code",
   "source": [
    "reg.fit(X_train, y_train, eval_set=[(X_train, y_train), (X_test, y_test)], verbose=100)"
   ],
   "metadata": {
    "colab": {
     "base_uri": "https://localhost:8080/",
     "height": 308
    },
    "id": "PLNBkcT9dX4X",
    "outputId": "239fbc12-1dba-4c93-d983-ea7a3c238117"
   },
   "execution_count": 64,
   "outputs": []
  },
  {
   "cell_type": "markdown",
   "source": [
    "Wartości z predykcji uzyskane komendą `reg.predict` z danych testowych `X_test` zostaną zapisane w kolumnie o nazwie `prediction` w ramce danych `df_test`."
   ],
   "metadata": {
    "id": "ZEBObvpedJ_t"
   }
  },
  {
   "cell_type": "code",
   "source": [
    "df_test['prediction'] = reg.predict(X_test)"
   ],
   "metadata": {
    "id": "-x2looG-Gonj",
    "colab": {
     "base_uri": "https://localhost:8080/"
    },
    "outputId": "b95d5276-5055-4be0-92e0-d9114123f925"
   },
   "execution_count": 65,
   "outputs": []
  },
  {
   "cell_type": "code",
   "source": [
    "df_test"
   ],
   "metadata": {
    "colab": {
     "base_uri": "https://localhost:8080/",
     "height": 424
    },
    "id": "yAsEVHF3KWNw",
    "outputId": "02765cfe-5103-44b3-e2d7-8948104dc1af"
   },
   "execution_count": 66,
   "outputs": []
  },
  {
   "cell_type": "markdown",
   "source": [
    "# Ocena modelu"
   ],
   "metadata": {
    "id": "Ur5ht7q0pYqV"
   }
  },
  {
   "cell_type": "markdown",
   "source": [
    "Wykres predykcji na tle wszystkich danych jest zrobiony poniżej. Druga i trzecia linijka kodu to generowanie wykresu."
   ],
   "metadata": {
    "id": "s-7jgK3blKjd"
   }
  },
  {
   "cell_type": "code",
   "source": [
    "plt.figure(figsize=(15,6))\n",
    "\n",
    "plt.plot(df['Datetime'], df['AEP_MW'], 'o', label='Dane z pomiaru')\n",
    "plt.plot(df_test['Datetime'], df_test['prediction'], 'o', label='Predykcja')\n",
    "\n",
    "plt.title('Predykcja energii elektrycznej')\n",
    "plt.xlabel('Data')\n",
    "plt.ylabel('Energia [MW]')\n",
    "plt.legend()\n",
    "plt.show()"
   ],
   "metadata": {
    "colab": {
     "base_uri": "https://localhost:8080/",
     "height": 564
    },
    "id": "nSmBz-T0eoW6",
    "outputId": "063568a0-1eae-49b5-aee9-8bccf67d9f21"
   },
   "execution_count": 67,
   "outputs": []
  },
  {
   "cell_type": "markdown",
   "source": [
    "Z modelu `reg` możemy również wyciągnąć istotność parametrów użytych do przewidywania produkcji/zużycia energii elektrycznej. Używamy komendy `feature_importances_` oraz `reg.feature_names_in_`. Utworzymy nową ramkę danych o nazwie `fi`."
   ],
   "metadata": {
    "id": "j8hIRGKzfUnA"
   }
  },
  {
   "cell_type": "code",
   "source": [
    "reg.feature_importances_"
   ],
   "metadata": {
    "colab": {
     "base_uri": "https://localhost:8080/"
    },
    "id": "s874iaZYfuS_",
    "outputId": "421e4de2-278a-42c9-a859-9e07426faf35"
   },
   "execution_count": 68,
   "outputs": []
  },
  {
   "cell_type": "code",
   "source": [
    "reg.feature_names_in_"
   ],
   "metadata": {
    "colab": {
     "base_uri": "https://localhost:8080/"
    },
    "id": "nD2uPF4rfy07",
    "outputId": "08b7b006-4925-4e06-bd4a-7ae4c54a2585"
   },
   "execution_count": 69,
   "outputs": []
  },
  {
   "cell_type": "code",
   "source": [
    "fi = pd.DataFrame()"
   ],
   "metadata": {
    "id": "aAUSiZELgfWW"
   },
   "execution_count": 70,
   "outputs": []
  },
  {
   "cell_type": "code",
   "source": [
    "fi['Składnik'] = reg.feature_names_in_\n",
    "fi['Ważność'] = reg.feature_importances_"
   ],
   "metadata": {
    "id": "CzAfdLAygkjv"
   },
   "execution_count": 71,
   "outputs": []
  },
  {
   "cell_type": "code",
   "source": [
    "fi.sort_values('Ważność', inplace=True)"
   ],
   "metadata": {
    "id": "5PEfaVoxgEBj"
   },
   "execution_count": 72,
   "outputs": []
  },
  {
   "cell_type": "code",
   "source": [
    "fi"
   ],
   "metadata": {
    "colab": {
     "base_uri": "https://localhost:8080/",
     "height": 269
    },
    "id": "mLVTKob-gVup",
    "outputId": "b686e4c2-4141-4a61-9b2b-7845b39fba5b"
   },
   "execution_count": 73,
   "outputs": []
  },
  {
   "cell_type": "markdown",
   "source": [
    "Z podanych danych można zrobić wykres słupkowy."
   ],
   "metadata": {
    "id": "FPd52lpKlkOk"
   }
  },
  {
   "cell_type": "code",
   "source": [
    "plt.bar(fi['Składnik'], height=fi['Ważność'])\n",
    "plt.title('Ważność składników modelu')\n",
    "plt.xticks(rotation=90)\n",
    "plt.show()"
   ],
   "metadata": {
    "colab": {
     "base_uri": "https://localhost:8080/",
     "height": 522
    },
    "id": "EUX3pw1RGiA5",
    "outputId": "42524d65-aa8b-4091-da2d-920cd0ea99db"
   },
   "execution_count": 74,
   "outputs": []
  },
  {
   "cell_type": "markdown",
   "source": [
    "Metrykę błędu progonozy można zrobić w oparciu o MSE, o czym było na początku tego pliku. Składnia jest prosta, `mean_squared_error(df_test['AEP_MW'], df_test['prediction'])`"
   ],
   "metadata": {
    "id": "G-nOtNY9lwAd"
   }
  },
  {
   "cell_type": "code",
   "source": [
    "score = mean_squared_error(df_test['AEP_MW'], df_test['prediction'])\n",
    "print(f'MSE Score on Test set: {score:0.2f}')"
   ],
   "metadata": {
    "colab": {
     "base_uri": "https://localhost:8080/"
    },
    "id": "37Lh5wDzHdUl",
    "outputId": "9d30bba8-a60a-400a-9273-503426c09109"
   },
   "execution_count": 75,
   "outputs": []
  },
  {
   "cell_type": "markdown",
   "source": [
    "Wartość może wydawać się duża, ale jak odniesiemy ją na godzinę pomiaru to będzie bardziej mariodajne."
   ],
   "metadata": {
    "id": "ai_ixC4TmWqb"
   }
  },
  {
   "cell_type": "code",
   "source": [
    "print(f'MSE per hour: %.3f MW' % (score/df_test.size))"
   ],
   "metadata": {
    "id": "j0SxXKgxHtGI",
    "colab": {
     "base_uri": "https://localhost:8080/"
    },
    "outputId": "4597d168-c534-47ad-b41a-4a0f3e12af00"
   },
   "execution_count": 76,
   "outputs": []
  },
  {
   "cell_type": "code",
   "source": [],
   "metadata": {
    "id": "R8KKHk3HoFDu"
   },
   "execution_count": null,
   "outputs": []
  }
 ]
}
