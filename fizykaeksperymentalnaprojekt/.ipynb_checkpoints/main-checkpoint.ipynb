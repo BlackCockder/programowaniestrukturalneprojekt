{
 "cells": [
  {
   "cell_type": "code",
   "id": "initial_id",
   "metadata": {
    "collapsed": true,
    "jupyter": {
     "is_executing": true
    },
    "ExecuteTime": {
     "start_time": "2025-01-19T21:48:40.765780Z"
    }
   },
   "source": [
    "import pandas as pd\n",
    "import matplotlib.pyplot as plt\n",
    "import xgboost as xgb\n",
    "from sklearn.model_selection import train_test_split"
   ],
   "outputs": [],
   "execution_count": null
  },
  {
   "metadata": {},
   "cell_type": "code",
   "outputs": [],
   "execution_count": null,
   "source": [
    "df = pd.read_excel('./../3D_ML.xlsx')\n",
    "\n",
    "X = df[['Moc', 'Prędkość skanowania', 'grubość wartswy']]\n",
    "y = df['porowatosc']"
   ],
   "id": "8cee574884875a85"
  },
  {
   "metadata": {},
   "cell_type": "code",
   "outputs": [],
   "execution_count": null,
   "source": [
    "X_train, X_test, y_train, y_test = train_test_split(X, y, test_size=0.2, random_state=0)\n",
    "\n",
    "reg = xgb.XGBRegressor(objective='reg:squarederror', n_estimators=100, learning_rate=0.1, max_depth=5, random_state=0)\n",
    "reg.fit(X_train, y_train)\n",
    "\n",
    "predictions = reg.predict(X_test)"
   ],
   "id": "e821250955f50412"
  },
  {
   "metadata": {},
   "cell_type": "code",
   "outputs": [],
   "execution_count": null,
   "source": [
    "y_pred = y.copy()\n",
    "y_pred.iloc[-20:] = predictions[:20]"
   ],
   "id": "b2d0afaef25f2241"
  },
  {
   "metadata": {},
   "cell_type": "code",
   "outputs": [],
   "execution_count": null,
   "source": [
    "plt.figure(figsize=(12, 4))\n",
    "plt.scatter(df['Moc'], df['porowatosc'], label='Dane z pomiaru')\n",
    "plt.scatter(df['Moc'].iloc[-20:], y_pred.iloc[-20:], label='Predykcja')\n",
    "plt.xlabel('Moc [W]')\n",
    "plt.ylabel('Porowatosc')\n",
    "plt.title('Porowatosc w zaleznosci od mocy')\n",
    "plt.legend()\n",
    "plt.show()"
   ],
   "id": "3e0f9f3956544ab"
  },
  {
   "metadata": {},
   "cell_type": "code",
   "outputs": [],
   "execution_count": null,
   "source": [
    "plt.figure(figsize=(12, 4))\n",
    "plt.scatter(df['Prędkość skanowania'], df['porowatosc'], label='Dane z pomiaru')\n",
    "plt.scatter(df['Prędkość skanowania'].iloc[-20:], y_pred.iloc[-20:], label='Predykcja')\n",
    "plt.xlabel('Prędkość skanowania')\n",
    "plt.ylabel('Porowatosc')\n",
    "plt.title('Porowatosc w zaleznosci od prędkości skanowania')\n",
    "plt.legend()\n",
    "plt.show()"
   ],
   "id": "f9e88b8210ae2109"
  },
  {
   "metadata": {},
   "cell_type": "code",
   "outputs": [],
   "execution_count": null,
   "source": [
    "plt.figure(figsize=(12, 4))\n",
    "plt.scatter(df['grubość wartswy'], df['porowatosc'], label='Dane z pomiaru')\n",
    "plt.scatter(df['grubość wartswy'].iloc[-20:], y_pred.iloc[-20:], label='Predykcja')\n",
    "plt.xlabel('Grubość warstwy')\n",
    "plt.ylabel('Porowatosc')\n",
    "plt.title('Porowatosc w zaleznosci od grubości warstwy')\n",
    "plt.legend()\n",
    "plt.show()"
   ],
   "id": "3b5c3e865ebeb023"
  },
  {
   "metadata": {},
   "cell_type": "code",
   "outputs": [],
   "execution_count": null,
   "source": [
    "plt.figure(figsize=(15,6))\n",
    "plt.plot(df.index, df['porowatosc'], 'o', label='Dane z pomiaru')\n",
    "plt.plot(df.index[-20:], y_pred.iloc[-20:], 'o', label='Predykcja')\n",
    "plt.xlabel('Index')\n",
    "plt.ylabel('Porowatosc')\n",
    "plt.title('Porowatość w zależności kolejności pomiaru (dowód niezależności pomiaru od parametrów mocy, prędkości skanowania i grubości warstwy')\n",
    "plt.legend()\n",
    "plt.show()"
   ],
   "id": "c57189a95813004b"
  }
 ],
 "metadata": {
  "kernelspec": {
   "display_name": "Python 3",
   "language": "python",
   "name": "python3"
  },
  "language_info": {
   "codemirror_mode": {
    "name": "ipython",
    "version": 2
   },
   "file_extension": ".py",
   "mimetype": "text/x-python",
   "name": "python",
   "nbconvert_exporter": "python",
   "pygments_lexer": "ipython2",
   "version": "2.7.6"
  }
 },
 "nbformat": 4,
 "nbformat_minor": 5
}
